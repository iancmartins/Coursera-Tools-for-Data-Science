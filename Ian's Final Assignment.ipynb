{
 "cells": [
  {
   "cell_type": "markdown",
   "metadata": {
    "collapsed": true
   },
   "source": [
    "# My Jupyter Notebook on IBM Watson Studio"
   ]
  },
  {
   "cell_type": "markdown",
   "metadata": {},
   "source": [
    "__Ian Campos Martins__\n",
    "\n",
    "Head of Business Development"
   ]
  },
  {
   "cell_type": "markdown",
   "metadata": {},
   "source": [
    "*I am interested in data science because it allows us to understand the trends hidden in the data and create new solutions for old problems. Developing my statistics and data science skills excites me.*"
   ]
  },
  {
   "cell_type": "markdown",
   "metadata": {},
   "source": [
    "### The code I wrote below prints the last 5 FIFA World Cup Champions"
   ]
  },
  {
   "cell_type": "code",
   "execution_count": 8,
   "metadata": {},
   "outputs": [
    {
     "name": "stdout",
     "output_type": "stream",
     "text": [
      "0 2022:Argentina\n",
      "1 2018:France\n",
      "2 2014:Germany\n",
      "3 2010:Spain\n",
      "4 2006:Italy\n"
     ]
    }
   ],
   "source": [
    "my_list = ['2022:Argentina', '2018:France', '2014:Germany', '2010:Spain', '2006:Italy']\n",
    "\n",
    "for index, val in enumerate(my_list):\n",
    "    print(index, val)"
   ]
  },
  {
   "cell_type": "code",
   "execution_count": null,
   "metadata": {},
   "outputs": [],
   "source": []
  },
  {
   "cell_type": "markdown",
   "metadata": {},
   "source": [
    "__Last 5 FIFA World Cup Champions__\n",
    "___\n",
    "\n",
    "\n",
    "Country        | Year | Host\n",
    ":-------------: | :-----: | :---:\n",
    "Argentina | 2022 | Qatar ![alt text](https://upload.wikimedia.org/wikipedia/commons/thumb/6/65/Flag_of_Qatar.svg/46px-Flag_of_Qatar.svg.png \"Qatar Flag\")\n",
    "France |2018 | Russia ![alt text](https://upload.wikimedia.org/wikipedia/en/thumb/f/f3/Flag_of_Russia.svg/45px-Flag_of_Russia.svg.png \"Russia Flag\")\n",
    "Germany | 2014 | Japan ![alt text](https://upload.wikimedia.org/wikipedia/en/thumb/9/9e/Flag_of_Japan.svg/45px-Flag_of_Japan.svg.png \"Japan Flag\") South Korea ![alt text](https://upload.wikimedia.org/wikipedia/commons/thumb/7/76/Flag_of_South_Korea_%281997%E2%80%932011%29.svg/45px-Flag_of_South_Korea_%281997%E2%80%932011%29.svg.png \"South Korea Flag\")\n",
    "Spain | 2010 | South Africa ![alt text](https://upload.wikimedia.org/wikipedia/commons/thumb/a/af/Flag_of_South_Africa.svg/45px-Flag_of_South_Africa.svg.png \"South Africa Flag\")\n",
    "Italy | 2006 | Germany ![alt text](https://upload.wikimedia.org/wikipedia/en/thumb/b/ba/Flag_of_Germany.svg/46px-Flag_of_Germany.svg.png \"Germany Flag\")\n",
    "\n",
    "___\n",
    "Source: https://en.wikipedia.org/wiki/FIFA_World_Cup"
   ]
  }
 ],
 "metadata": {
  "kernelspec": {
   "display_name": "Python 3.9",
   "language": "python",
   "name": "python3"
  },
  "language_info": {
   "codemirror_mode": {
    "name": "ipython",
    "version": 3
   },
   "file_extension": ".py",
   "mimetype": "text/x-python",
   "name": "python",
   "nbconvert_exporter": "python",
   "pygments_lexer": "ipython3",
   "version": "3.9.13"
  }
 },
 "nbformat": 4,
 "nbformat_minor": 1
}
